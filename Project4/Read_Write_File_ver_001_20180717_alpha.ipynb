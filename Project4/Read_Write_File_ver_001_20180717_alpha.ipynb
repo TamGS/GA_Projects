{
 "cells": [
  {
   "cell_type": "code",
   "execution_count": 2,
   "metadata": {},
   "outputs": [
    {
     "name": "stdout",
     "output_type": "stream",
     "text": [
      "0:01:05.541234\n"
     ]
    }
   ],
   "source": [
    "import datetime\n",
    "import re\n",
    "from collections import defaultdict\n",
    "import pandas as pd\n",
    "from numpy import nan\n",
    "from pathlib import Path\n",
    "##################################### Setup File Name ###################################################\n",
    "#2014-01-01 to #2018-06-30\n",
    "starttime = datetime.datetime.now()\n",
    "\n",
    "ts = pd.date_range(start='2014-01-01', end='2018-06-30', freq='D')\n",
    "\n",
    "for i in range(len(ts)):\n",
    "    sfile_date = ts[i].date()\n",
    "    sfile_year = str(sfile_date.year)\n",
    "    \n",
    "    if sfile_date.month <10:\n",
    "        sfile_month = '0' + str(sfile_date.month)\n",
    "    else:\n",
    "        sfile_month = str(sfile_date.month)\n",
    "\n",
    "    if sfile_date.day <10:\n",
    "        sfile_day = '0' + str(sfile_date.day)\n",
    "    else:\n",
    "        sfile_day = str(sfile_date.day)\n",
    "        \n",
    "    sfile_name='Y'+ sfile_year +'_M'+ sfile_month +'_D'+ sfile_day +'.Log'\n",
    "    \n",
    "\n",
    "    error_list=[]\n",
    "\n",
    "    my_file = Path('APB01 All Log/' +sfile_name)\n",
    "\n",
    "    if my_file.is_file():\n",
    "        with open(my_file, 'r') as f:\n",
    "            for line in f:\n",
    "                if '(MACHINE_ERROR)' in line:\n",
    "                    error_list.append(line.strip())\n",
    "                    \n",
    "    error_number= (len(error_list))  \n",
    "    error_dict = { 'Date': [sfile_date], 'Error': [error_number]}    \n",
    "    error_df = pd.DataFrame(error_dict, columns = ['Date','Error'])\n",
    "    \n",
    "    with open('gs.csv', 'a') as f:\n",
    "             error_df.to_csv(f, header=False)\n",
    "\n",
    "            \n",
    "            \n",
    "endtime = datetime.datetime.now()\n",
    "difftime = endtime - starttime\n",
    "print(difftime)"
   ]
  },
  {
   "cell_type": "code",
   "execution_count": 3,
   "metadata": {},
   "outputs": [
    {
     "data": {
      "text/html": [
       "<div>\n",
       "<style scoped>\n",
       "    .dataframe tbody tr th:only-of-type {\n",
       "        vertical-align: middle;\n",
       "    }\n",
       "\n",
       "    .dataframe tbody tr th {\n",
       "        vertical-align: top;\n",
       "    }\n",
       "\n",
       "    .dataframe thead th {\n",
       "        text-align: right;\n",
       "    }\n",
       "</style>\n",
       "<table border=\"1\" class=\"dataframe\">\n",
       "  <thead>\n",
       "    <tr style=\"text-align: right;\">\n",
       "      <th></th>\n",
       "      <th>Date</th>\n",
       "      <th>Error</th>\n",
       "    </tr>\n",
       "  </thead>\n",
       "  <tbody>\n",
       "    <tr>\n",
       "      <th>0</th>\n",
       "      <td>2018-06-30</td>\n",
       "      <td>49</td>\n",
       "    </tr>\n",
       "  </tbody>\n",
       "</table>\n",
       "</div>"
      ],
      "text/plain": [
       "         Date  Error\n",
       "0  2018-06-30     49"
      ]
     },
     "execution_count": 3,
     "metadata": {},
     "output_type": "execute_result"
    }
   ],
   "source": [
    "error_df"
   ]
  },
  {
   "cell_type": "code",
   "execution_count": null,
   "metadata": {},
   "outputs": [],
   "source": []
  },
  {
   "cell_type": "code",
   "execution_count": null,
   "metadata": {},
   "outputs": [],
   "source": []
  }
 ],
 "metadata": {
  "kernelspec": {
   "display_name": "Python 3",
   "language": "python",
   "name": "python3"
  },
  "language_info": {
   "codemirror_mode": {
    "name": "ipython",
    "version": 3
   },
   "file_extension": ".py",
   "mimetype": "text/x-python",
   "name": "python",
   "nbconvert_exporter": "python",
   "pygments_lexer": "ipython3",
   "version": "3.6.4"
  }
 },
 "nbformat": 4,
 "nbformat_minor": 2
}
