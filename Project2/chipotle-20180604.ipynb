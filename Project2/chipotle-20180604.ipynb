{
 "cells": [
  {
   "cell_type": "markdown",
   "metadata": {},
   "source": [
    "<img src=\"http://imgur.com/1ZcRyrc.png\" style=\"float: left; margin: 20px; height: 55px\">\n",
    "\n",
    "# Project 2: Analyzing Chipotle Data\n",
    "\n",
    "_Author: Joseph Nelson (DC)_\n",
    "\n",
    "---"
   ]
  },
  {
   "cell_type": "markdown",
   "metadata": {},
   "source": [
    "For Project 2, you will complete a series of exercises exploring [order data from Chipotle](https://github.com/TheUpshot/chipotle), compliments of _The New York Times'_ \"The Upshot.\"\n",
    "\n",
    "For these exercises, you will conduct basic exploratory data analysis (Pandas not required) to understand the essentials of Chipotle's order data: how many orders are being made, the average price per order, how many different ingredients are used, etc. These allow you to practice business analysis skills while also becoming comfortable with Python."
   ]
  },
  {
   "cell_type": "markdown",
   "metadata": {},
   "source": [
    "---\n",
    "\n",
    "## Basic Level"
   ]
  },
  {
   "cell_type": "markdown",
   "metadata": {},
   "source": [
    "### Part 1: Read in the file with `csv.reader()` and store it in an object called `file_nested_list`.\n",
    "\n",
    "Hint: This is a TSV (tab-separated value) file, and `csv.reader()` needs to be told [how to handle it](https://docs.python.org/2/library/csv.html)."
   ]
  },
  {
   "cell_type": "code",
   "execution_count": 4,
   "metadata": {},
   "outputs": [],
   "source": [
    "import csv\n",
    "from collections import namedtuple   # Convenient to store the data rows\n",
    "\n",
    "DATA_FILE = './data/chipotle.tsv'"
   ]
  },
  {
   "cell_type": "code",
   "execution_count": 5,
   "metadata": {},
   "outputs": [],
   "source": [
    "#with open('./data/chipotle.tsv', mode='rU') as file_nested_list:\n",
    "    #print(file_nested_list.read())\n",
    "    #file_nested_list = [row for row in csv.reader(f, delimiter='\\t')]\n",
    "    #file_nested_list.readlines()\n",
    "#    for line in file_nested_list.readlines():\n",
    "#        print(line.strip())\n",
    "    \n",
    "with open('./data/chipotle.tsv', mode='r') as f:\n",
    "    file_nested_list = [row for row in csv.reader(f, delimiter='\\t')]"
   ]
  },
  {
   "cell_type": "markdown",
   "metadata": {},
   "source": [
    "### Part 2: Separate `file_nested_list` into the `header` and the `data`.\n"
   ]
  },
  {
   "cell_type": "code",
   "execution_count": 20,
   "metadata": {},
   "outputs": [
    {
     "name": "stdout",
     "output_type": "stream",
     "text": [
      "['order_id', 'quantity', 'item_name', 'choice_description', 'item_price']\n"
     ]
    }
   ],
   "source": [
    "header = file_nested_list[0]\n",
    "data = file_nested_list[1:]\n",
    "#print(file_nested_list)\n",
    "print(header)\n",
    "#print(data)"
   ]
  },
  {
   "cell_type": "markdown",
   "metadata": {},
   "source": [
    "---\n",
    "\n",
    "## Intermediate Level"
   ]
  },
  {
   "cell_type": "markdown",
   "metadata": {},
   "source": [
    "### Part 3: Calculate the average price of an order.\n",
    "\n",
    "Hint: Examine the data to see if the `quantity` column is relevant to this calculation.\n",
    "\n",
    "Hint: Think carefully about the simplest way to do this!"
   ]
  },
  {
   "cell_type": "code",
   "execution_count": 21,
   "metadata": {},
   "outputs": [
    {
     "name": "stdout",
     "output_type": "stream",
     "text": [
      "order number: 5\n",
      "13.7(total prices),2(quantity),6.85(average price/given_order),"
     ]
    }
   ],
   "source": [
    "total_price=0\n",
    "quantity=0\n",
    "order = input('order number: ')\n",
    "order=int(order)\n",
    "for i in data:\n",
    "    if int(i[0])==order:\n",
    "        total_price = float(i[4][1:-1]) + total_price\n",
    "        quantity = int(i[1]) + quantity\n",
    "\n",
    "print(total_price, end='(total prices),')\n",
    "print(quantity, end='(quantity),')\n",
    "print(total_price/quantity, end='(average price/given_order),')"
   ]
  },
  {
   "cell_type": "markdown",
   "metadata": {},
   "source": [
    "### Part 4: Create a list (or set) named `unique_sodas` containing all of unique sodas and soft drinks that Chipotle sells.\n",
    "\n",
    "Note: Just look for `'Canned Soda'` and `'Canned Soft Drink'`, and ignore other drinks like `'Izze'`."
   ]
  },
  {
   "cell_type": "code",
   "execution_count": 9,
   "metadata": {},
   "outputs": [
    {
     "name": "stdout",
     "output_type": "stream",
     "text": [
      "{'[Lemonade]', '[Coca Cola]', '[Nestea]', '[Dr. Pepper]', '[Diet Dr. Pepper]', '[Mountain Dew]', '[Diet Coke]', '[Coke]', '[Sprite]'}\n"
     ]
    }
   ],
   "source": [
    "unique_sodas=set([i[3] for i in data if 'canned' in i[2].lower()])\n",
    "print(unique_sodas)"
   ]
  },
  {
   "cell_type": "markdown",
   "metadata": {},
   "source": [
    "---\n",
    "\n",
    "## Advanced Level\n"
   ]
  },
  {
   "cell_type": "markdown",
   "metadata": {},
   "source": [
    "### Part 5: Calculate the average number of toppings per burrito.\n",
    "\n",
    "Note: Let's ignore the `quantity` column to simplify this task.\n",
    "\n",
    "Hint: Think carefully about the easiest way to count the number of toppings!\n"
   ]
  },
  {
   "cell_type": "code",
   "execution_count": 12,
   "metadata": {},
   "outputs": [
    {
     "name": "stdout",
     "output_type": "stream",
     "text": [
      "1172(number of burrito),6323(number of topping),5.395051194539249(average number of toppings per burrito)"
     ]
    }
   ],
   "source": [
    "total_burrito=0\n",
    "sum_burrito_list=sum([total_burrito+1 for i in data if 'burrito' in i[2].lower()])\n",
    "\n",
    "\n",
    "total_topping=0\n",
    "\n",
    "sum_topping_list=sum([i[3].count(',')+1 for i in data if 'burrito' in i[2].lower()])\n",
    "\n",
    "\n",
    "print(sum_burrito_list, end='(number of burrito),')\n",
    "print(sum_topping_list, end='(number of topping),')\n",
    "print(sum_topping_list/sum_burrito_list, end='(average number of toppings per burrito)')"
   ]
  },
  {
   "cell_type": "markdown",
   "metadata": {},
   "source": [
    "### Part 6: Create a dictionary. Let the keys represent chip orders and the values represent the total number of orders.\n",
    "\n",
    "Expected output: `{'Chips and Roasted Chili-Corn Salsa': 18, ... }`\n",
    "\n",
    "Note: Please take the `quantity` column into account!\n",
    "\n",
    "Optional: Learn how to use `.defaultdict()` to simplify your code."
   ]
  },
  {
   "cell_type": "code",
   "execution_count": 14,
   "metadata": {},
   "outputs": [
    {
     "name": "stdout",
     "output_type": "stream",
     "text": [
      "defaultdict(<class 'int'>, {'Chips and Tomatillo Green Chili Salsa': 43, 'Chips and Tomatillo Red Chili Salsa': 48, 'Chips and Roasted Chili-Corn Salsa': 18, 'Chips and Tomatillo-Red Chili Salsa': 20, 'Chips': 211, 'Chips and Guacamole': 479, 'Chips and Roasted Chili Corn Salsa': 22, 'Chips and Fresh Tomato Salsa': 110, 'Chips and Tomatillo-Green Chili Salsa': 31, 'Chips and Mild Fresh Tomato Salsa': 1, 'Side of Chips': 101})\n"
     ]
    }
   ],
   "source": [
    "from collections import defaultdict\n",
    "\n",
    "chips_list= ([i[2]  for i in data if 'chips' in i[2].lower()])\n",
    "chips_set = set(chips_list)\n",
    "\n",
    "\n",
    "chips_dict = defaultdict(int)\n",
    "\n",
    "for i in chips_set:\n",
    "    for j in chips_list:\n",
    "        if i==j:\n",
    "            chips_dict[i] = chips_dict[i] + 1\n",
    "\n",
    "\n",
    "print(chips_dict)\n",
    "\n"
   ]
  },
  {
   "cell_type": "markdown",
   "metadata": {},
   "source": [
    "---\n",
    "\n",
    "## Bonus: Craft a problem statement about this data that interests you, and then answer it!\n"
   ]
  },
  {
   "cell_type": "code",
   "execution_count": 15,
   "metadata": {},
   "outputs": [],
   "source": [
    "#list out number of quantity each item, find out which item is the best selling item\n",
    "#answer: best selling item is Chicken Bowl, total order= 761"
   ]
  },
  {
   "cell_type": "code",
   "execution_count": 16,
   "metadata": {},
   "outputs": [
    {
     "name": "stdout",
     "output_type": "stream",
     "text": [
      "defaultdict(<class 'int'>, {'Chips and Roasted Chili-Corn Salsa': 18, 'Barbacoa Bowl': 66, 'Steak Burrito': 386, 'Chips and Guacamole': 506, 'Chips and Tomatillo-Green Chili Salsa': 33, 'Izze': 20, 'Veggie Bowl': 87, 'Chips and Mild Fresh Tomato Salsa': 1, 'Crispy Tacos': 2, 'Carnitas Bowl': 71, 'Veggie Soft Tacos': 8, 'Veggie Crispy Tacos': 1, 'Veggie Burrito': 97, 'Steak Crispy Tacos': 36, 'Bowl': 4, 'Steak Salad Bowl': 31, 'Barbacoa Crispy Tacos': 12, 'Canned Soft Drink': 351, 'Canned Soda': 126, '6 Pack Soft Drink': 55, 'Veggie Salad': 6, 'Barbacoa Burrito': 91, 'Bottled Water': 211, 'Nantucket Nectar': 29, 'Chips and Tomatillo Green Chili Salsa': 45, 'Chips and Tomatillo-Red Chili Salsa': 25, 'Chicken Salad': 9, 'Carnitas Salad': 1, 'Chicken Burrito': 591, 'Steak Bowl': 221, 'Barbacoa Soft Tacos': 25, 'Burrito': 6, 'Veggie Salad Bowl': 18, 'Chips and Roasted Chili Corn Salsa': 23, 'Steak Salad': 4, 'Steak Soft Tacos': 56, 'Carnitas Salad Bowl': 6, 'Carnitas Soft Tacos': 40, 'Chicken Soft Tacos': 120, 'Salad': 2, 'Chips and Tomatillo Red Chili Salsa': 50, 'Barbacoa Salad Bowl': 10, 'Chicken Salad Bowl': 123, 'Chips': 230, 'Carnitas Burrito': 60, 'Chicken Crispy Tacos': 50, 'Chips and Fresh Tomato Salsa': 130, 'Side of Chips': 110, 'Chicken Bowl': 761, 'Carnitas Crispy Tacos': 8})\n"
     ]
    }
   ],
   "source": [
    "item_list=[i[2] for i in data]\n",
    "#print(item_list)   \n",
    "\n",
    "item_set=set(item_list)\n",
    "#print(item_set)\n",
    "\n",
    "quantity_list=[i[1] for i in data]\n",
    "#print(quantity_list)\n",
    "\n",
    "    \n",
    "item_dict=defaultdict(int)\n",
    "\n",
    "for i in item_set:\n",
    "    for h,j in enumerate(item_list):\n",
    "        #print(h,j)\n",
    "        if i==j:\n",
    "            item_dict[i]= item_dict[i]+ int(quantity_list[h]) \n",
    "\n",
    "print(item_dict)"
   ]
  },
  {
   "cell_type": "code",
   "execution_count": 17,
   "metadata": {},
   "outputs": [
    {
     "name": "stdout",
     "output_type": "stream",
     "text": [
      "defaultdict(<class 'int'>, {'Chips and Roasted Chili-Corn Salsa': 18, 'Barbacoa Bowl': 66, 'Steak Burrito': 386, 'Chips and Guacamole': 506, 'Chips and Tomatillo-Green Chili Salsa': 33, 'Izze': 20, 'Veggie Bowl': 87, 'Chips and Mild Fresh Tomato Salsa': 1, 'Crispy Tacos': 2, 'Carnitas Bowl': 71, 'Veggie Soft Tacos': 8, 'Veggie Crispy Tacos': 1, 'Veggie Burrito': 97, 'Steak Crispy Tacos': 36, 'Bowl': 4, 'Steak Salad Bowl': 31, 'Barbacoa Crispy Tacos': 12, 'Canned Soft Drink': 351, 'Canned Soda': 126, '6 Pack Soft Drink': 55, 'Veggie Salad': 6, 'Barbacoa Burrito': 91, 'Bottled Water': 211, 'Nantucket Nectar': 29, 'Chips and Tomatillo Green Chili Salsa': 45, 'Chips and Tomatillo-Red Chili Salsa': 25, 'Chicken Salad': 9, 'Carnitas Salad': 1, 'Chicken Burrito': 591, 'Steak Bowl': 221, 'Barbacoa Soft Tacos': 25, 'Burrito': 6, 'Veggie Salad Bowl': 18, 'Chips and Roasted Chili Corn Salsa': 23, 'Steak Salad': 4, 'Steak Soft Tacos': 56, 'Carnitas Salad Bowl': 6, 'Carnitas Soft Tacos': 40, 'Chicken Soft Tacos': 120, 'Salad': 2, 'Chips and Tomatillo Red Chili Salsa': 50, 'Barbacoa Salad Bowl': 10, 'Chicken Salad Bowl': 123, 'Chips': 230, 'Carnitas Burrito': 60, 'Chicken Crispy Tacos': 50, 'Chips and Fresh Tomato Salsa': 130, 'Side of Chips': 110, 'Chicken Bowl': 761, 'Carnitas Crispy Tacos': 8})\n"
     ]
    }
   ],
   "source": [
    "item_list=[i[2] for i in data]\n",
    "#print(item_list)   \n",
    "\n",
    "item_set=set(item_list)\n",
    "#print(item_set)\n",
    "\n",
    "quantity_list=[i[1] for i in data]\n",
    "#print(quantity_list)\n",
    "\n",
    "    \n",
    "item_dict=defaultdict(int)\n",
    "\n",
    "for i in item_set:\n",
    "    for j in range(len(item_list)):\n",
    "        if i==item_list[j]:\n",
    "            item_dict[i]= item_dict[i]+ int(quantity_list[j]) \n",
    "\n",
    "print(item_dict)\n",
    "            \n",
    "#for i in item_set:\n",
    "#    for j in item_list:\n",
    "#        if i==j:\n",
    "#            item_dict[i]=item_dict[i]+(int(quantity_list[item_list.index(j)]))\n",
    "\n",
    "\n",
    "#for i in item_set:\n",
    "#    item_dict[i] = item_list.count(i) \n",
    "    \n",
    "#print(item_dict)\n"
   ]
  },
  {
   "cell_type": "code",
   "execution_count": 24,
   "metadata": {},
   "outputs": [
    {
     "data": {
      "text/html": [
       "<style  type=\"text/css\" >\n",
       "    #T_d1fa296e_67f1_11e8_9efb_88b111acbc31row16_col0 {\n",
       "            background:  red;\n",
       "        }    #T_d1fa296e_67f1_11e8_9efb_88b111acbc31row16_col1 {\n",
       "            background:  red;\n",
       "        }    #T_d1fa296e_67f1_11e8_9efb_88b111acbc31row18_col0 {\n",
       "            background:  red;\n",
       "        }    #T_d1fa296e_67f1_11e8_9efb_88b111acbc31row18_col1 {\n",
       "            background:  red;\n",
       "        }    #T_d1fa296e_67f1_11e8_9efb_88b111acbc31row20_col0 {\n",
       "            background:  red;\n",
       "        }    #T_d1fa296e_67f1_11e8_9efb_88b111acbc31row20_col1 {\n",
       "            background:  red;\n",
       "        }    #T_d1fa296e_67f1_11e8_9efb_88b111acbc31row23_col0 {\n",
       "            background:  red;\n",
       "        }    #T_d1fa296e_67f1_11e8_9efb_88b111acbc31row23_col1 {\n",
       "            background:  red;\n",
       "        }    #T_d1fa296e_67f1_11e8_9efb_88b111acbc31row26_col0 {\n",
       "            background:  red;\n",
       "        }    #T_d1fa296e_67f1_11e8_9efb_88b111acbc31row26_col1 {\n",
       "            background:  red;\n",
       "        }    #T_d1fa296e_67f1_11e8_9efb_88b111acbc31row28_col0 {\n",
       "            background:  red;\n",
       "        }    #T_d1fa296e_67f1_11e8_9efb_88b111acbc31row28_col1 {\n",
       "            background:  red;\n",
       "        }</style>  \n",
       "<table id=\"T_d1fa296e_67f1_11e8_9efb_88b111acbc31\" > \n",
       "<thead>    <tr> \n",
       "        <th class=\"blank level0\" ></th> \n",
       "        <th class=\"col_heading level0 col0\" >Item_Name</th> \n",
       "        <th class=\"col_heading level0 col1\" >Quantity</th> \n",
       "    </tr></thead> \n",
       "<tbody>    <tr> \n",
       "        <th id=\"T_d1fa296e_67f1_11e8_9efb_88b111acbc31level0_row0\" class=\"row_heading level0 row0\" >0</th> \n",
       "        <td id=\"T_d1fa296e_67f1_11e8_9efb_88b111acbc31row0_col0\" class=\"data row0 col0\" >Carnitas Salad</td> \n",
       "        <td id=\"T_d1fa296e_67f1_11e8_9efb_88b111acbc31row0_col1\" class=\"data row0 col1\" >1</td> \n",
       "    </tr>    <tr> \n",
       "        <th id=\"T_d1fa296e_67f1_11e8_9efb_88b111acbc31level0_row1\" class=\"row_heading level0 row1\" >1</th> \n",
       "        <td id=\"T_d1fa296e_67f1_11e8_9efb_88b111acbc31row1_col0\" class=\"data row1 col0\" >Veggie Crispy Tacos</td> \n",
       "        <td id=\"T_d1fa296e_67f1_11e8_9efb_88b111acbc31row1_col1\" class=\"data row1 col1\" >1</td> \n",
       "    </tr>    <tr> \n",
       "        <th id=\"T_d1fa296e_67f1_11e8_9efb_88b111acbc31level0_row2\" class=\"row_heading level0 row2\" >2</th> \n",
       "        <td id=\"T_d1fa296e_67f1_11e8_9efb_88b111acbc31row2_col0\" class=\"data row2 col0\" >Chips and Mild Fresh Tomato Salsa</td> \n",
       "        <td id=\"T_d1fa296e_67f1_11e8_9efb_88b111acbc31row2_col1\" class=\"data row2 col1\" >1</td> \n",
       "    </tr>    <tr> \n",
       "        <th id=\"T_d1fa296e_67f1_11e8_9efb_88b111acbc31level0_row3\" class=\"row_heading level0 row3\" >3</th> \n",
       "        <td id=\"T_d1fa296e_67f1_11e8_9efb_88b111acbc31row3_col0\" class=\"data row3 col0\" >Crispy Tacos</td> \n",
       "        <td id=\"T_d1fa296e_67f1_11e8_9efb_88b111acbc31row3_col1\" class=\"data row3 col1\" >2</td> \n",
       "    </tr>    <tr> \n",
       "        <th id=\"T_d1fa296e_67f1_11e8_9efb_88b111acbc31level0_row4\" class=\"row_heading level0 row4\" >4</th> \n",
       "        <td id=\"T_d1fa296e_67f1_11e8_9efb_88b111acbc31row4_col0\" class=\"data row4 col0\" >Salad</td> \n",
       "        <td id=\"T_d1fa296e_67f1_11e8_9efb_88b111acbc31row4_col1\" class=\"data row4 col1\" >2</td> \n",
       "    </tr>    <tr> \n",
       "        <th id=\"T_d1fa296e_67f1_11e8_9efb_88b111acbc31level0_row5\" class=\"row_heading level0 row5\" >5</th> \n",
       "        <td id=\"T_d1fa296e_67f1_11e8_9efb_88b111acbc31row5_col0\" class=\"data row5 col0\" >Bowl</td> \n",
       "        <td id=\"T_d1fa296e_67f1_11e8_9efb_88b111acbc31row5_col1\" class=\"data row5 col1\" >4</td> \n",
       "    </tr>    <tr> \n",
       "        <th id=\"T_d1fa296e_67f1_11e8_9efb_88b111acbc31level0_row6\" class=\"row_heading level0 row6\" >6</th> \n",
       "        <td id=\"T_d1fa296e_67f1_11e8_9efb_88b111acbc31row6_col0\" class=\"data row6 col0\" >Steak Salad</td> \n",
       "        <td id=\"T_d1fa296e_67f1_11e8_9efb_88b111acbc31row6_col1\" class=\"data row6 col1\" >4</td> \n",
       "    </tr>    <tr> \n",
       "        <th id=\"T_d1fa296e_67f1_11e8_9efb_88b111acbc31level0_row7\" class=\"row_heading level0 row7\" >7</th> \n",
       "        <td id=\"T_d1fa296e_67f1_11e8_9efb_88b111acbc31row7_col0\" class=\"data row7 col0\" >Veggie Salad</td> \n",
       "        <td id=\"T_d1fa296e_67f1_11e8_9efb_88b111acbc31row7_col1\" class=\"data row7 col1\" >6</td> \n",
       "    </tr>    <tr> \n",
       "        <th id=\"T_d1fa296e_67f1_11e8_9efb_88b111acbc31level0_row8\" class=\"row_heading level0 row8\" >8</th> \n",
       "        <td id=\"T_d1fa296e_67f1_11e8_9efb_88b111acbc31row8_col0\" class=\"data row8 col0\" >Carnitas Salad Bowl</td> \n",
       "        <td id=\"T_d1fa296e_67f1_11e8_9efb_88b111acbc31row8_col1\" class=\"data row8 col1\" >6</td> \n",
       "    </tr>    <tr> \n",
       "        <th id=\"T_d1fa296e_67f1_11e8_9efb_88b111acbc31level0_row9\" class=\"row_heading level0 row9\" >9</th> \n",
       "        <td id=\"T_d1fa296e_67f1_11e8_9efb_88b111acbc31row9_col0\" class=\"data row9 col0\" >Burrito</td> \n",
       "        <td id=\"T_d1fa296e_67f1_11e8_9efb_88b111acbc31row9_col1\" class=\"data row9 col1\" >6</td> \n",
       "    </tr>    <tr> \n",
       "        <th id=\"T_d1fa296e_67f1_11e8_9efb_88b111acbc31level0_row10\" class=\"row_heading level0 row10\" >10</th> \n",
       "        <td id=\"T_d1fa296e_67f1_11e8_9efb_88b111acbc31row10_col0\" class=\"data row10 col0\" >Carnitas Crispy Tacos</td> \n",
       "        <td id=\"T_d1fa296e_67f1_11e8_9efb_88b111acbc31row10_col1\" class=\"data row10 col1\" >8</td> \n",
       "    </tr>    <tr> \n",
       "        <th id=\"T_d1fa296e_67f1_11e8_9efb_88b111acbc31level0_row11\" class=\"row_heading level0 row11\" >11</th> \n",
       "        <td id=\"T_d1fa296e_67f1_11e8_9efb_88b111acbc31row11_col0\" class=\"data row11 col0\" >Veggie Soft Tacos</td> \n",
       "        <td id=\"T_d1fa296e_67f1_11e8_9efb_88b111acbc31row11_col1\" class=\"data row11 col1\" >8</td> \n",
       "    </tr>    <tr> \n",
       "        <th id=\"T_d1fa296e_67f1_11e8_9efb_88b111acbc31level0_row12\" class=\"row_heading level0 row12\" >12</th> \n",
       "        <td id=\"T_d1fa296e_67f1_11e8_9efb_88b111acbc31row12_col0\" class=\"data row12 col0\" >Chicken Salad</td> \n",
       "        <td id=\"T_d1fa296e_67f1_11e8_9efb_88b111acbc31row12_col1\" class=\"data row12 col1\" >9</td> \n",
       "    </tr>    <tr> \n",
       "        <th id=\"T_d1fa296e_67f1_11e8_9efb_88b111acbc31level0_row13\" class=\"row_heading level0 row13\" >13</th> \n",
       "        <td id=\"T_d1fa296e_67f1_11e8_9efb_88b111acbc31row13_col0\" class=\"data row13 col0\" >Barbacoa Salad Bowl</td> \n",
       "        <td id=\"T_d1fa296e_67f1_11e8_9efb_88b111acbc31row13_col1\" class=\"data row13 col1\" >10</td> \n",
       "    </tr>    <tr> \n",
       "        <th id=\"T_d1fa296e_67f1_11e8_9efb_88b111acbc31level0_row14\" class=\"row_heading level0 row14\" >14</th> \n",
       "        <td id=\"T_d1fa296e_67f1_11e8_9efb_88b111acbc31row14_col0\" class=\"data row14 col0\" >Barbacoa Crispy Tacos</td> \n",
       "        <td id=\"T_d1fa296e_67f1_11e8_9efb_88b111acbc31row14_col1\" class=\"data row14 col1\" >12</td> \n",
       "    </tr>    <tr> \n",
       "        <th id=\"T_d1fa296e_67f1_11e8_9efb_88b111acbc31level0_row15\" class=\"row_heading level0 row15\" >15</th> \n",
       "        <td id=\"T_d1fa296e_67f1_11e8_9efb_88b111acbc31row15_col0\" class=\"data row15 col0\" >Veggie Salad Bowl</td> \n",
       "        <td id=\"T_d1fa296e_67f1_11e8_9efb_88b111acbc31row15_col1\" class=\"data row15 col1\" >18</td> \n",
       "    </tr>    <tr> \n",
       "        <th id=\"T_d1fa296e_67f1_11e8_9efb_88b111acbc31level0_row16\" class=\"row_heading level0 row16\" >16</th> \n",
       "        <td id=\"T_d1fa296e_67f1_11e8_9efb_88b111acbc31row16_col0\" class=\"data row16 col0\" >Chips and Roasted Chili-Corn Salsa</td> \n",
       "        <td id=\"T_d1fa296e_67f1_11e8_9efb_88b111acbc31row16_col1\" class=\"data row16 col1\" >18</td> \n",
       "    </tr>    <tr> \n",
       "        <th id=\"T_d1fa296e_67f1_11e8_9efb_88b111acbc31level0_row17\" class=\"row_heading level0 row17\" >17</th> \n",
       "        <td id=\"T_d1fa296e_67f1_11e8_9efb_88b111acbc31row17_col0\" class=\"data row17 col0\" >Izze</td> \n",
       "        <td id=\"T_d1fa296e_67f1_11e8_9efb_88b111acbc31row17_col1\" class=\"data row17 col1\" >20</td> \n",
       "    </tr>    <tr> \n",
       "        <th id=\"T_d1fa296e_67f1_11e8_9efb_88b111acbc31level0_row18\" class=\"row_heading level0 row18\" >18</th> \n",
       "        <td id=\"T_d1fa296e_67f1_11e8_9efb_88b111acbc31row18_col0\" class=\"data row18 col0\" >Chips and Roasted Chili Corn Salsa</td> \n",
       "        <td id=\"T_d1fa296e_67f1_11e8_9efb_88b111acbc31row18_col1\" class=\"data row18 col1\" >23</td> \n",
       "    </tr>    <tr> \n",
       "        <th id=\"T_d1fa296e_67f1_11e8_9efb_88b111acbc31level0_row19\" class=\"row_heading level0 row19\" >19</th> \n",
       "        <td id=\"T_d1fa296e_67f1_11e8_9efb_88b111acbc31row19_col0\" class=\"data row19 col0\" >Barbacoa Soft Tacos</td> \n",
       "        <td id=\"T_d1fa296e_67f1_11e8_9efb_88b111acbc31row19_col1\" class=\"data row19 col1\" >25</td> \n",
       "    </tr>    <tr> \n",
       "        <th id=\"T_d1fa296e_67f1_11e8_9efb_88b111acbc31level0_row20\" class=\"row_heading level0 row20\" >20</th> \n",
       "        <td id=\"T_d1fa296e_67f1_11e8_9efb_88b111acbc31row20_col0\" class=\"data row20 col0\" >Chips and Tomatillo-Red Chili Salsa</td> \n",
       "        <td id=\"T_d1fa296e_67f1_11e8_9efb_88b111acbc31row20_col1\" class=\"data row20 col1\" >25</td> \n",
       "    </tr>    <tr> \n",
       "        <th id=\"T_d1fa296e_67f1_11e8_9efb_88b111acbc31level0_row21\" class=\"row_heading level0 row21\" >21</th> \n",
       "        <td id=\"T_d1fa296e_67f1_11e8_9efb_88b111acbc31row21_col0\" class=\"data row21 col0\" >Nantucket Nectar</td> \n",
       "        <td id=\"T_d1fa296e_67f1_11e8_9efb_88b111acbc31row21_col1\" class=\"data row21 col1\" >29</td> \n",
       "    </tr>    <tr> \n",
       "        <th id=\"T_d1fa296e_67f1_11e8_9efb_88b111acbc31level0_row22\" class=\"row_heading level0 row22\" >22</th> \n",
       "        <td id=\"T_d1fa296e_67f1_11e8_9efb_88b111acbc31row22_col0\" class=\"data row22 col0\" >Steak Salad Bowl</td> \n",
       "        <td id=\"T_d1fa296e_67f1_11e8_9efb_88b111acbc31row22_col1\" class=\"data row22 col1\" >31</td> \n",
       "    </tr>    <tr> \n",
       "        <th id=\"T_d1fa296e_67f1_11e8_9efb_88b111acbc31level0_row23\" class=\"row_heading level0 row23\" >23</th> \n",
       "        <td id=\"T_d1fa296e_67f1_11e8_9efb_88b111acbc31row23_col0\" class=\"data row23 col0\" >Chips and Tomatillo-Green Chili Salsa</td> \n",
       "        <td id=\"T_d1fa296e_67f1_11e8_9efb_88b111acbc31row23_col1\" class=\"data row23 col1\" >33</td> \n",
       "    </tr>    <tr> \n",
       "        <th id=\"T_d1fa296e_67f1_11e8_9efb_88b111acbc31level0_row24\" class=\"row_heading level0 row24\" >24</th> \n",
       "        <td id=\"T_d1fa296e_67f1_11e8_9efb_88b111acbc31row24_col0\" class=\"data row24 col0\" >Steak Crispy Tacos</td> \n",
       "        <td id=\"T_d1fa296e_67f1_11e8_9efb_88b111acbc31row24_col1\" class=\"data row24 col1\" >36</td> \n",
       "    </tr>    <tr> \n",
       "        <th id=\"T_d1fa296e_67f1_11e8_9efb_88b111acbc31level0_row25\" class=\"row_heading level0 row25\" >25</th> \n",
       "        <td id=\"T_d1fa296e_67f1_11e8_9efb_88b111acbc31row25_col0\" class=\"data row25 col0\" >Carnitas Soft Tacos</td> \n",
       "        <td id=\"T_d1fa296e_67f1_11e8_9efb_88b111acbc31row25_col1\" class=\"data row25 col1\" >40</td> \n",
       "    </tr>    <tr> \n",
       "        <th id=\"T_d1fa296e_67f1_11e8_9efb_88b111acbc31level0_row26\" class=\"row_heading level0 row26\" >26</th> \n",
       "        <td id=\"T_d1fa296e_67f1_11e8_9efb_88b111acbc31row26_col0\" class=\"data row26 col0\" >Chips and Tomatillo Green Chili Salsa</td> \n",
       "        <td id=\"T_d1fa296e_67f1_11e8_9efb_88b111acbc31row26_col1\" class=\"data row26 col1\" >45</td> \n",
       "    </tr>    <tr> \n",
       "        <th id=\"T_d1fa296e_67f1_11e8_9efb_88b111acbc31level0_row27\" class=\"row_heading level0 row27\" >27</th> \n",
       "        <td id=\"T_d1fa296e_67f1_11e8_9efb_88b111acbc31row27_col0\" class=\"data row27 col0\" >Chicken Crispy Tacos</td> \n",
       "        <td id=\"T_d1fa296e_67f1_11e8_9efb_88b111acbc31row27_col1\" class=\"data row27 col1\" >50</td> \n",
       "    </tr>    <tr> \n",
       "        <th id=\"T_d1fa296e_67f1_11e8_9efb_88b111acbc31level0_row28\" class=\"row_heading level0 row28\" >28</th> \n",
       "        <td id=\"T_d1fa296e_67f1_11e8_9efb_88b111acbc31row28_col0\" class=\"data row28 col0\" >Chips and Tomatillo Red Chili Salsa</td> \n",
       "        <td id=\"T_d1fa296e_67f1_11e8_9efb_88b111acbc31row28_col1\" class=\"data row28 col1\" >50</td> \n",
       "    </tr>    <tr> \n",
       "        <th id=\"T_d1fa296e_67f1_11e8_9efb_88b111acbc31level0_row29\" class=\"row_heading level0 row29\" >29</th> \n",
       "        <td id=\"T_d1fa296e_67f1_11e8_9efb_88b111acbc31row29_col0\" class=\"data row29 col0\" >6 Pack Soft Drink</td> \n",
       "        <td id=\"T_d1fa296e_67f1_11e8_9efb_88b111acbc31row29_col1\" class=\"data row29 col1\" >55</td> \n",
       "    </tr>    <tr> \n",
       "        <th id=\"T_d1fa296e_67f1_11e8_9efb_88b111acbc31level0_row30\" class=\"row_heading level0 row30\" >30</th> \n",
       "        <td id=\"T_d1fa296e_67f1_11e8_9efb_88b111acbc31row30_col0\" class=\"data row30 col0\" >Steak Soft Tacos</td> \n",
       "        <td id=\"T_d1fa296e_67f1_11e8_9efb_88b111acbc31row30_col1\" class=\"data row30 col1\" >56</td> \n",
       "    </tr>    <tr> \n",
       "        <th id=\"T_d1fa296e_67f1_11e8_9efb_88b111acbc31level0_row31\" class=\"row_heading level0 row31\" >31</th> \n",
       "        <td id=\"T_d1fa296e_67f1_11e8_9efb_88b111acbc31row31_col0\" class=\"data row31 col0\" >Carnitas Burrito</td> \n",
       "        <td id=\"T_d1fa296e_67f1_11e8_9efb_88b111acbc31row31_col1\" class=\"data row31 col1\" >60</td> \n",
       "    </tr>    <tr> \n",
       "        <th id=\"T_d1fa296e_67f1_11e8_9efb_88b111acbc31level0_row32\" class=\"row_heading level0 row32\" >32</th> \n",
       "        <td id=\"T_d1fa296e_67f1_11e8_9efb_88b111acbc31row32_col0\" class=\"data row32 col0\" >Barbacoa Bowl</td> \n",
       "        <td id=\"T_d1fa296e_67f1_11e8_9efb_88b111acbc31row32_col1\" class=\"data row32 col1\" >66</td> \n",
       "    </tr>    <tr> \n",
       "        <th id=\"T_d1fa296e_67f1_11e8_9efb_88b111acbc31level0_row33\" class=\"row_heading level0 row33\" >33</th> \n",
       "        <td id=\"T_d1fa296e_67f1_11e8_9efb_88b111acbc31row33_col0\" class=\"data row33 col0\" >Carnitas Bowl</td> \n",
       "        <td id=\"T_d1fa296e_67f1_11e8_9efb_88b111acbc31row33_col1\" class=\"data row33 col1\" >71</td> \n",
       "    </tr>    <tr> \n",
       "        <th id=\"T_d1fa296e_67f1_11e8_9efb_88b111acbc31level0_row34\" class=\"row_heading level0 row34\" >34</th> \n",
       "        <td id=\"T_d1fa296e_67f1_11e8_9efb_88b111acbc31row34_col0\" class=\"data row34 col0\" >Veggie Bowl</td> \n",
       "        <td id=\"T_d1fa296e_67f1_11e8_9efb_88b111acbc31row34_col1\" class=\"data row34 col1\" >87</td> \n",
       "    </tr>    <tr> \n",
       "        <th id=\"T_d1fa296e_67f1_11e8_9efb_88b111acbc31level0_row35\" class=\"row_heading level0 row35\" >35</th> \n",
       "        <td id=\"T_d1fa296e_67f1_11e8_9efb_88b111acbc31row35_col0\" class=\"data row35 col0\" >Barbacoa Burrito</td> \n",
       "        <td id=\"T_d1fa296e_67f1_11e8_9efb_88b111acbc31row35_col1\" class=\"data row35 col1\" >91</td> \n",
       "    </tr>    <tr> \n",
       "        <th id=\"T_d1fa296e_67f1_11e8_9efb_88b111acbc31level0_row36\" class=\"row_heading level0 row36\" >36</th> \n",
       "        <td id=\"T_d1fa296e_67f1_11e8_9efb_88b111acbc31row36_col0\" class=\"data row36 col0\" >Veggie Burrito</td> \n",
       "        <td id=\"T_d1fa296e_67f1_11e8_9efb_88b111acbc31row36_col1\" class=\"data row36 col1\" >97</td> \n",
       "    </tr>    <tr> \n",
       "        <th id=\"T_d1fa296e_67f1_11e8_9efb_88b111acbc31level0_row37\" class=\"row_heading level0 row37\" >37</th> \n",
       "        <td id=\"T_d1fa296e_67f1_11e8_9efb_88b111acbc31row37_col0\" class=\"data row37 col0\" >Side of Chips</td> \n",
       "        <td id=\"T_d1fa296e_67f1_11e8_9efb_88b111acbc31row37_col1\" class=\"data row37 col1\" >110</td> \n",
       "    </tr>    <tr> \n",
       "        <th id=\"T_d1fa296e_67f1_11e8_9efb_88b111acbc31level0_row38\" class=\"row_heading level0 row38\" >38</th> \n",
       "        <td id=\"T_d1fa296e_67f1_11e8_9efb_88b111acbc31row38_col0\" class=\"data row38 col0\" >Chicken Soft Tacos</td> \n",
       "        <td id=\"T_d1fa296e_67f1_11e8_9efb_88b111acbc31row38_col1\" class=\"data row38 col1\" >120</td> \n",
       "    </tr>    <tr> \n",
       "        <th id=\"T_d1fa296e_67f1_11e8_9efb_88b111acbc31level0_row39\" class=\"row_heading level0 row39\" >39</th> \n",
       "        <td id=\"T_d1fa296e_67f1_11e8_9efb_88b111acbc31row39_col0\" class=\"data row39 col0\" >Chicken Salad Bowl</td> \n",
       "        <td id=\"T_d1fa296e_67f1_11e8_9efb_88b111acbc31row39_col1\" class=\"data row39 col1\" >123</td> \n",
       "    </tr>    <tr> \n",
       "        <th id=\"T_d1fa296e_67f1_11e8_9efb_88b111acbc31level0_row40\" class=\"row_heading level0 row40\" >40</th> \n",
       "        <td id=\"T_d1fa296e_67f1_11e8_9efb_88b111acbc31row40_col0\" class=\"data row40 col0\" >Canned Soda</td> \n",
       "        <td id=\"T_d1fa296e_67f1_11e8_9efb_88b111acbc31row40_col1\" class=\"data row40 col1\" >126</td> \n",
       "    </tr>    <tr> \n",
       "        <th id=\"T_d1fa296e_67f1_11e8_9efb_88b111acbc31level0_row41\" class=\"row_heading level0 row41\" >41</th> \n",
       "        <td id=\"T_d1fa296e_67f1_11e8_9efb_88b111acbc31row41_col0\" class=\"data row41 col0\" >Chips and Fresh Tomato Salsa</td> \n",
       "        <td id=\"T_d1fa296e_67f1_11e8_9efb_88b111acbc31row41_col1\" class=\"data row41 col1\" >130</td> \n",
       "    </tr>    <tr> \n",
       "        <th id=\"T_d1fa296e_67f1_11e8_9efb_88b111acbc31level0_row42\" class=\"row_heading level0 row42\" >42</th> \n",
       "        <td id=\"T_d1fa296e_67f1_11e8_9efb_88b111acbc31row42_col0\" class=\"data row42 col0\" >Bottled Water</td> \n",
       "        <td id=\"T_d1fa296e_67f1_11e8_9efb_88b111acbc31row42_col1\" class=\"data row42 col1\" >211</td> \n",
       "    </tr>    <tr> \n",
       "        <th id=\"T_d1fa296e_67f1_11e8_9efb_88b111acbc31level0_row43\" class=\"row_heading level0 row43\" >43</th> \n",
       "        <td id=\"T_d1fa296e_67f1_11e8_9efb_88b111acbc31row43_col0\" class=\"data row43 col0\" >Steak Bowl</td> \n",
       "        <td id=\"T_d1fa296e_67f1_11e8_9efb_88b111acbc31row43_col1\" class=\"data row43 col1\" >221</td> \n",
       "    </tr>    <tr> \n",
       "        <th id=\"T_d1fa296e_67f1_11e8_9efb_88b111acbc31level0_row44\" class=\"row_heading level0 row44\" >44</th> \n",
       "        <td id=\"T_d1fa296e_67f1_11e8_9efb_88b111acbc31row44_col0\" class=\"data row44 col0\" >Chips</td> \n",
       "        <td id=\"T_d1fa296e_67f1_11e8_9efb_88b111acbc31row44_col1\" class=\"data row44 col1\" >230</td> \n",
       "    </tr>    <tr> \n",
       "        <th id=\"T_d1fa296e_67f1_11e8_9efb_88b111acbc31level0_row45\" class=\"row_heading level0 row45\" >45</th> \n",
       "        <td id=\"T_d1fa296e_67f1_11e8_9efb_88b111acbc31row45_col0\" class=\"data row45 col0\" >Canned Soft Drink</td> \n",
       "        <td id=\"T_d1fa296e_67f1_11e8_9efb_88b111acbc31row45_col1\" class=\"data row45 col1\" >351</td> \n",
       "    </tr>    <tr> \n",
       "        <th id=\"T_d1fa296e_67f1_11e8_9efb_88b111acbc31level0_row46\" class=\"row_heading level0 row46\" >46</th> \n",
       "        <td id=\"T_d1fa296e_67f1_11e8_9efb_88b111acbc31row46_col0\" class=\"data row46 col0\" >Steak Burrito</td> \n",
       "        <td id=\"T_d1fa296e_67f1_11e8_9efb_88b111acbc31row46_col1\" class=\"data row46 col1\" >386</td> \n",
       "    </tr>    <tr> \n",
       "        <th id=\"T_d1fa296e_67f1_11e8_9efb_88b111acbc31level0_row47\" class=\"row_heading level0 row47\" >47</th> \n",
       "        <td id=\"T_d1fa296e_67f1_11e8_9efb_88b111acbc31row47_col0\" class=\"data row47 col0\" >Chips and Guacamole</td> \n",
       "        <td id=\"T_d1fa296e_67f1_11e8_9efb_88b111acbc31row47_col1\" class=\"data row47 col1\" >506</td> \n",
       "    </tr>    <tr> \n",
       "        <th id=\"T_d1fa296e_67f1_11e8_9efb_88b111acbc31level0_row48\" class=\"row_heading level0 row48\" >48</th> \n",
       "        <td id=\"T_d1fa296e_67f1_11e8_9efb_88b111acbc31row48_col0\" class=\"data row48 col0\" >Chicken Burrito</td> \n",
       "        <td id=\"T_d1fa296e_67f1_11e8_9efb_88b111acbc31row48_col1\" class=\"data row48 col1\" >591</td> \n",
       "    </tr>    <tr> \n",
       "        <th id=\"T_d1fa296e_67f1_11e8_9efb_88b111acbc31level0_row49\" class=\"row_heading level0 row49\" >49</th> \n",
       "        <td id=\"T_d1fa296e_67f1_11e8_9efb_88b111acbc31row49_col0\" class=\"data row49 col0\" >Chicken Bowl</td> \n",
       "        <td id=\"T_d1fa296e_67f1_11e8_9efb_88b111acbc31row49_col1\" class=\"data row49 col1\" >761</td> \n",
       "    </tr></tbody> \n",
       "</table> "
      ],
      "text/plain": [
       "<pandas.io.formats.style.Styler at 0x1ed9c1bef28>"
      ]
     },
     "execution_count": 24,
     "metadata": {},
     "output_type": "execute_result"
    }
   ],
   "source": [
    "import pandas as pd\n",
    "#import matplotlib.pyplot as plt\n",
    "#%matplotlib inline\n",
    "\n",
    "\n",
    "item_table=pd.Series(item_dict, name='Quantity')\n",
    "item_table.index.name = 'Item_Name'\n",
    "\n",
    "item_table=item_table.sort_values()\n",
    "item_table=item_table.reset_index()\n",
    "\n",
    "item_table\n",
    "\n",
    "#print(item_table.dtypes)\n",
    "#item_table.max()\n",
    "#item_table.min()\n",
    "#item_table.describe(include='all')\n",
    "\n",
    "#print(item_table.iloc[3][1])\n",
    "\n",
    "#print(item_table['Quantity'])\n",
    "#for v in item_table['Quantity']:\n",
    "#    print((v))\n",
    "\n",
    "#Highlight all item with chili    \n",
    "item_table.style.apply(lambda x: [\"background: red\" if 'Chili' in v  else \"\" for v in item_table['Item_Name']], axis = 0)"
   ]
  },
  {
   "cell_type": "code",
   "execution_count": null,
   "metadata": {},
   "outputs": [],
   "source": []
  }
 ],
 "metadata": {
  "anaconda-cloud": {},
  "kernelspec": {
   "display_name": "Python 3",
   "language": "python",
   "name": "python3"
  },
  "language_info": {
   "codemirror_mode": {
    "name": "ipython",
    "version": 3
   },
   "file_extension": ".py",
   "mimetype": "text/x-python",
   "name": "python",
   "nbconvert_exporter": "python",
   "pygments_lexer": "ipython3",
   "version": "3.6.4"
  }
 },
 "nbformat": 4,
 "nbformat_minor": 2
}
